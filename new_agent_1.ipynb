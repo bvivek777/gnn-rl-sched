{
 "cells": [
  {
   "cell_type": "code",
   "execution_count": 2,
   "source": [
    "from matplotlib import pyplot as plt\n",
    "from environment_wrapper import *\n",
    "import networkx as nx\n",
    "from numpy.random import randint\n",
    "\n",
    "env = GraphWrapper()\n",
    "running_reward = 0\n",
    "for e in range(1):\n",
    "\n",
    "    env.reset()\n",
    "    state = env.observe()\n",
    "    done = False\n",
    "    episode_reward = 0\n",
    "    actions = 0\n",
    "    while not done:\n",
    "        G, node_inputs, leaf_nodes = state \n",
    "        if len(env.leaf_nodes) > 0:\n",
    "            node = env.leaf_nodes[randint(len(env.leaf_nodes))]\n",
    "        else :\n",
    "            node = 0\n",
    "        state, reward, done = env.step((node, 1), False)\n",
    "        episode_reward += reward\n",
    "        actions += 1\n",
    "\n",
    "    # agent.save(version=\"2\")\n",
    "    running_reward = 0.05 * episode_reward + (1 - 0.05) * running_reward\n",
    "    print(actions, episode_reward)\n",
    "\n",
    "    # log results\n",
    "    if e % 1 == 0:\n",
    "        print('Episode {}\\tLast reward: {:.2f}\\tAverage reward: {:.2f} \\n'.format(\n",
    "            e, episode_reward, running_reward))\n"
   ],
   "outputs": [
    {
     "output_type": "stream",
     "name": "stdout",
     "text": [
      "1293 -892.1854999999999\n",
      "Episode 0\tLast reward: -892.19\tAverage reward: -44.61 \n",
      "\n"
     ]
    }
   ],
   "metadata": {}
  },
  {
   "cell_type": "code",
   "execution_count": 9,
   "source": [
    "import torch\n",
    "import numpy as np\n",
    "a = torch.tensor([[1,2,3,4,5,6], [1,2,3,4,5,6], [1,2,3,4,5,6], [1,2,3,4,5,6], [1,2,3,4,5,6], [1,2,3,4,5,6]])\n",
    "best_action = torch.tensor([2,3,4,1,2,0])\n",
    "a[np.arange(0, 6), best_action]"
   ],
   "outputs": [
    {
     "output_type": "execute_result",
     "data": {
      "text/plain": [
       "tensor([3, 4, 5, 2, 3, 1])"
      ]
     },
     "metadata": {},
     "execution_count": 9
    }
   ],
   "metadata": {}
  },
  {
   "cell_type": "code",
   "execution_count": 1,
   "source": [
    "import dgl\n",
    "import torch\n",
    "import torch.nn as nn\n",
    "from dgl.nn.pytorch import GraphConv\n",
    "import torch.nn.functional as F\n",
    "\n",
    "class GCN(nn.Module):\n",
    "\n",
    "    def __init__(self, features=5, hidden_layer_size=5, embedding_size=1):\n",
    "        super(GCN, self).__init__()\n",
    "        \n",
    "        self.conv1 = GraphConv(in_feats=features, out_feats=hidden_layer_size, weight=True, bias=True)\n",
    "        self.conv1.reset_parameters()\n",
    "        self.conv2 = GraphConv(in_feats=hidden_layer_size, out_feats=embedding_size, weight=True, bias=True)\n",
    "        self.conv2.reset_parameters()\n",
    "        # self.conv3 = GraphConv(hidden_layer_size, embedding_size)\n",
    "        self.softmax = nn.Softmax(dim=-1)\n",
    "\n",
    "    def forward(self, g, inputs):\n",
    "        h = inputs\n",
    "        h = self.conv1(g, h)\n",
    "        h = torch.sigmoid(h)\n",
    "        h = self.conv2(g, h)\n",
    "        h = torch.sigmoid(h)\n",
    "\n",
    "        return h\n",
    "\n",
    "gnn = GCN().to(\"cuda\")\n",
    "\n",
    "g1 = dgl.graph((torch.tensor([0, 1, 2]), torch.tensor([1, 2, 3])))\n",
    "g2 = dgl.graph((torch.tensor([0, 0, 0, 1]), torch.tensor([0, 1, 2, 0])))\n",
    "g  = []\n",
    "size = [4, 3]\n",
    "g1 = dgl.add_self_loop(g1)\n",
    "g2 = dgl.add_self_loop(g2)\n",
    "g.append(g1)\n",
    "g.append(g2)\n",
    "\n",
    "leaf_nodes = [[0,3],[2]]\n",
    "\n",
    "\n",
    "\n",
    "node_inputs = torch.tensor([[ 2, 3, 1, 2 ,3, 4, 5]]).to(\"cuda\")\n",
    "\n",
    "bg = dgl.batch([g1, g2]).to(\"cuda\")\n",
    "\n",
    "logits = gnn.forward(bg, node_inputs)"
   ],
   "outputs": [
    {
     "output_type": "stream",
     "name": "stderr",
     "text": [
      "Using backend: pytorch\n"
     ]
    }
   ],
   "metadata": {}
  },
  {
   "cell_type": "code",
   "execution_count": 6,
   "source": [
    "g1.number_of_nodes()"
   ],
   "outputs": [
    {
     "output_type": "execute_result",
     "data": {
      "text/plain": [
       "<bound method DGLHeteroGraph.number_of_nodes of Graph(num_nodes=4, num_edges=7,\n",
       "      ndata_schemes={}\n",
       "      edata_schemes={})>"
      ]
     },
     "metadata": {},
     "execution_count": 6
    }
   ],
   "metadata": {}
  }
 ],
 "metadata": {
  "interpreter": {
   "hash": "e7370f93d1d0cde622a1f8e1c04877d8463912d04d973331ad4851f04de6915a"
  },
  "kernelspec": {
   "name": "python3",
   "display_name": "Python 3.8.10 64-bit"
  },
  "language_info": {
   "codemirror_mode": {
    "name": "ipython",
    "version": 3
   },
   "file_extension": ".py",
   "mimetype": "text/x-python",
   "name": "python",
   "nbconvert_exporter": "python",
   "pygments_lexer": "ipython3",
   "version": "3.8.10"
  }
 },
 "nbformat": 4,
 "nbformat_minor": 2
}