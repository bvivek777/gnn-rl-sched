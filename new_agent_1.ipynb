{
 "cells": [
  {
   "cell_type": "code",
   "execution_count": 2,
   "source": [
    "from matplotlib import pyplot as plt\n",
    "from environment_wrapper import *\n",
    "import networkx as nx\n",
    "from numpy.random import randint\n",
    "\n",
    "env = GraphWrapper()\n",
    "running_reward = 0\n",
    "for e in range(1):\n",
    "\n",
    "    env.reset()\n",
    "    state = env.observe()\n",
    "    done = False\n",
    "    episode_reward = 0\n",
    "    actions = 0\n",
    "    while not done:\n",
    "        G, node_inputs, leaf_nodes = state \n",
    "        if len(env.leaf_nodes) > 0:\n",
    "            node = env.leaf_nodes[randint(len(env.leaf_nodes))]\n",
    "        else :\n",
    "            node = 0\n",
    "        state, reward, done = env.step((node, 1), False)\n",
    "        episode_reward += reward\n",
    "        actions += 1\n",
    "\n",
    "    # agent.save(version=\"2\")\n",
    "    running_reward = 0.05 * episode_reward + (1 - 0.05) * running_reward\n",
    "    print(actions, episode_reward)\n",
    "\n",
    "    # log results\n",
    "    if e % 1 == 0:\n",
    "        print('Episode {}\\tLast reward: {:.2f}\\tAverage reward: {:.2f} \\n'.format(\n",
    "            e, episode_reward, running_reward))\n"
   ],
   "outputs": [
    {
     "output_type": "stream",
     "name": "stdout",
     "text": [
      "1293 -892.1854999999999\n",
      "Episode 0\tLast reward: -892.19\tAverage reward: -44.61 \n",
      "\n"
     ]
    }
   ],
   "metadata": {}
  }
 ],
 "metadata": {
  "interpreter": {
   "hash": "e7370f93d1d0cde622a1f8e1c04877d8463912d04d973331ad4851f04de6915a"
  },
  "kernelspec": {
   "name": "python3",
   "display_name": "Python 3.8.10 64-bit"
  },
  "language_info": {
   "codemirror_mode": {
    "name": "ipython",
    "version": 3
   },
   "file_extension": ".py",
   "mimetype": "text/x-python",
   "name": "python",
   "nbconvert_exporter": "python",
   "pygments_lexer": "ipython3",
   "version": "3.8.10"
  }
 },
 "nbformat": 4,
 "nbformat_minor": 2
}